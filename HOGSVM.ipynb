{
  "nbformat": 4,
  "nbformat_minor": 0,
  "metadata": {
    "colab": {
      "name": "HOGSVM.ipynb",
      "provenance": [],
      "collapsed_sections": [],
      "authorship_tag": "ABX9TyN+VgIihtGcqOskoFyReAh5",
      "include_colab_link": true
    },
    "kernelspec": {
      "name": "python3",
      "display_name": "Python 3"
    },
    "language_info": {
      "name": "python"
    },
    "accelerator": "GPU"
  },
  "cells": [
    {
      "cell_type": "markdown",
      "metadata": {
        "id": "view-in-github",
        "colab_type": "text"
      },
      "source": [
        "<a href=\"https://colab.research.google.com/github/dardan-gashi01/IN3060-CW/blob/main/HOGSVM.ipynb\" target=\"_parent\"><img src=\"https://colab.research.google.com/assets/colab-badge.svg\" alt=\"Open In Colab\"/></a>"
      ]
    },
    {
      "cell_type": "code",
      "execution_count": 1,
      "metadata": {
        "colab": {
          "base_uri": "https://localhost:8080/"
        },
        "id": "S5uReu3aasCN",
        "outputId": "8d2b0ffc-06ea-4d85-a116-59bf230923ad"
      },
      "outputs": [
        {
          "output_type": "stream",
          "name": "stdout",
          "text": [
            "Mounted at /content/drive\n"
          ]
        }
      ],
      "source": [
        "from google.colab import drive\n",
        "drive.mount('/content/drive')"
      ]
    },
    {
      "cell_type": "code",
      "source": [
        "import os\n",
        "\n",
        "# TODO: Fill in the Google Drive path where you uploaded the lab materials\n",
        "# Example: GOOGLE_DRIVE_PATH_AFTER_MYDRIVE = 'Colab Notebooks/Lab materials 01-20210104'\n",
        "\n",
        "GOOGLE_DRIVE_PATH_AFTER_MYDRIVE = 'Colab Notebooks/CW_Folder_UG' \n",
        "GOOGLE_DRIVE_PATH = os.path.join('drive', 'My Drive', GOOGLE_DRIVE_PATH_AFTER_MYDRIVE)\n",
        "print(os.listdir(GOOGLE_DRIVE_PATH))"
      ],
      "metadata": {
        "colab": {
          "base_uri": "https://localhost:8080/"
        },
        "id": "TaG-YFelaxaT",
        "outputId": "3d2da47a-7189-482d-d7a3-f83a9bf79b7f"
      },
      "execution_count": 2,
      "outputs": [
        {
          "output_type": "stream",
          "name": "stdout",
          "text": [
            "['Code', '.DS_Store', 'CW_Dataset.zip', 'Models', 'Personal_Dataset', 'test_functions.ipynb']\n"
          ]
        }
      ]
    },
    {
      "cell_type": "markdown",
      "source": [
        "**Unzipping the files and reshaping the folder path to a path similar to the lab tutorials**"
      ],
      "metadata": {
        "id": "YAsPaapha06B"
      }
    },
    {
      "cell_type": "code",
      "source": [
        "zip_path = os.path.join(GOOGLE_DRIVE_PATH, 'CW_Dataset.zip')\n",
        "\n",
        "!cp '{zip_path}' .\n",
        "\n",
        "!yes|unzip -q CW_Dataset.zip\n",
        "\n",
        "!rm CW_Dataset.zip"
      ],
      "metadata": {
        "id": "vq5Rmugxa1WN"
      },
      "execution_count": null,
      "outputs": []
    },
    {
      "cell_type": "code",
      "source": [
        "import os, shutil\n",
        "#function to make the directory if the one we are trying to make does not exist already\n",
        "def make_dir_if_not_exists(path):\n",
        "  if not os.path.isdir(path):\n",
        "    os.mkdir(path)\n",
        "\n",
        "\n",
        "def dataFolder2(trainImgPath, testImgPath, trainLabelPath, testLabelPath):\n",
        "  #creating empty folders\n",
        "  make_dir_if_not_exists('./DataFolder')\n",
        "  make_dir_if_not_exists('./DataFolder/train')\n",
        "  make_dir_if_not_exists('./DataFolder/test')\n",
        "  #making the folders 1-7 to store our data inside them and have emotions as numbers\n",
        "  for i in range(1,8):\n",
        "    make_dir_if_not_exists(f'./DataFolder/train/{str(i)}')\n",
        "    make_dir_if_not_exists(f'./DataFolder/test/{str(i)}')\n",
        "\n",
        "  #initialisng the train and test paths\n",
        "  trainPath = './DataFolder/train'\n",
        "  testPath = './DataFolder/test'\n",
        "\n",
        "  #reading the text file and splitting it from the space and storing the numbers in a dictionary and assigning it to the images we also read\n",
        "  file_names = [file for file in os.listdir(trainImgPath) if file.endswith('.jpg')]\n",
        "  parsed_data = {}\n",
        "  with open (trainLabelPath, \"r\") as myfile:\n",
        "    data = myfile.readlines()\n",
        "    for line_data in data:\n",
        "      file_name, number = line_data.strip().split(\" \")\n",
        "      parsed_data[file_name] = number\n",
        "\n",
        "  #loading the images into the correct folders for the train folder\n",
        "  for file in file_names:\n",
        "    shutil.copy(f\"{trainImgPath}/{file}\", f\"{trainPath}/{parsed_data[file.replace('_aligned', '')]}/{file}\")\n",
        "    #print(\"image file: \" + file + ' class: ' + parsed_data[file.replace(\"_aligned\", \"\")])\n",
        "  #load images into the correct folders\n",
        "\n",
        "  #repeat the same step as above but this time for the test folder and test.txt\n",
        "  file_names = [file for file in os.listdir(testImgPath) if file.endswith('.jpg')]\n",
        "  parsed_data = {}\n",
        "  with open (testLabelPath, \"r\") as myfile:\n",
        "    data = myfile.readlines()\n",
        "    for line_data in data:\n",
        "      file_name, number = line_data.strip().split(\" \")\n",
        "      parsed_data[file_name] = number\n",
        "\n",
        "  for file in file_names:\n",
        "    shutil.copy(f\"{testImgPath}/{file}\", f\"{testPath}/{parsed_data[file.replace('_aligned', '')]}/{file}\")\n",
        "    #print(\"image file: \" + file + ' class: ' + parsed_data[file.replace(\"_aligned\", \"\")])\n",
        "  #load images into the correct folders"
      ],
      "metadata": {
        "id": "UxZQI0Sua4I1"
      },
      "execution_count": null,
      "outputs": []
    },
    {
      "cell_type": "code",
      "source": [
        "#loading the folders\n",
        "dataFolder2('train', 'test', 'labels/list_label_train.txt', 'labels/list_label_test.txt')"
      ],
      "metadata": {
        "id": "Kn11pj6da6oa"
      },
      "execution_count": null,
      "outputs": []
    },
    {
      "cell_type": "markdown",
      "source": [
        "importing the libraries needed"
      ],
      "metadata": {
        "id": "vCFNIt9obbLk"
      }
    },
    {
      "cell_type": "code",
      "source": [
        "import cv2\n",
        "from sklearn.model_selection import train_test_split\n",
        "from skimage import img_as_ubyte, io, color\n",
        "from sklearn.cluster import MiniBatchKMeans\n",
        "from sklearn import svm, metrics\n",
        "from skimage.feature import hog\n",
        "import matplotlib.pyplot as plt\n",
        "import numpy as np\n",
        "from collections import Counter\n",
        "from skimage import exposure"
      ],
      "metadata": {
        "id": "Cnx0Cc2xa9Xy"
      },
      "execution_count": null,
      "outputs": []
    },
    {
      "cell_type": "code",
      "source": [
        "#this is loading the images and labels from our folder into the X and y. This code was taken from the lab 7 tutorial where they loaded the images and labels\n",
        "def import_selected_data(path, label_list):\n",
        "    images = []\n",
        "    labels = []\n",
        "\n",
        "    if label_list is None:\n",
        "        folder_names = [folder for folder in sorted(os.listdir(path)) if not folder.startswith('.')]\n",
        "    else:\n",
        "        folder_names = [folder for folder in sorted(os.listdir(path)) if folder in label_list]\n",
        "\n",
        "    for folder in folder_names:\n",
        "        file_names = [file for file in sorted(os.listdir(os.path.join(path, folder))) if file.endswith('.jpg')]\n",
        "        for file in file_names:\n",
        "            images.append(io.imread(os.path.join(path, folder, file)))\n",
        "            labels.append(folder)\n",
        "\n",
        "    return images, labels"
      ],
      "metadata": {
        "id": "upkhTnPYa_zC"
      },
      "execution_count": null,
      "outputs": []
    },
    {
      "cell_type": "code",
      "source": [
        "#loading the images into X, y \n",
        "X, y = import_selected_data('DataFolder/train', label_list=['1', '2', '3','4','5','6','7'])"
      ],
      "metadata": {
        "id": "lxlYekVKbCLQ"
      },
      "execution_count": null,
      "outputs": []
    },
    {
      "cell_type": "markdown",
      "source": [
        "Reshaping the images to run oversampling on them using SMOTE in the imblearn library"
      ],
      "metadata": {
        "id": "eW5WRwohbofP"
      }
    },
    {
      "cell_type": "code",
      "source": [
        "np.shape(X)"
      ],
      "metadata": {
        "colab": {
          "base_uri": "https://localhost:8080/"
        },
        "id": "mfRog0DkuAkh",
        "outputId": "2f07cce7-f932-49c0-8c86-da2d0fcd4d57"
      },
      "execution_count": null,
      "outputs": [
        {
          "output_type": "execute_result",
          "data": {
            "text/plain": [
              "(12271, 100, 100, 3)"
            ]
          },
          "metadata": {},
          "execution_count": 10
        }
      ]
    },
    {
      "cell_type": "code",
      "source": [
        "#here we had to reshape our data so that we could oversample with SMOTE\n",
        "X_array = np.array(X)\n",
        "Y_array = np.array(y)\n",
        "X_array = X_array.reshape(len(y),100*100*3)"
      ],
      "metadata": {
        "id": "66UOXv6hQ14G"
      },
      "execution_count": null,
      "outputs": []
    },
    {
      "cell_type": "code",
      "source": [
        "#imported the libraries needed to oversample with imblearn\n",
        "#I used the link given to us in lab 7 to understand this : https://machinelearningmastery.com/random-oversampling-and-undersampling-for-imbalanced-classification/\n",
        "#from the link I saw smote and tried it our and I preferred it more as it was easier to use and gave me better results\n",
        "from imblearn.over_sampling import SMOTE, ADASYN\n",
        "from imblearn.combine import SMOTEENN\n",
        "from imblearn.pipeline import make_pipeline\n",
        "from collections import Counter\n",
        "oversample = SMOTE()\n",
        "X_R, y_R = oversample.fit_resample(X_array, y)"
      ],
      "metadata": {
        "id": "ZJihyLPuQ2XX"
      },
      "execution_count": null,
      "outputs": []
    },
    {
      "cell_type": "code",
      "source": [
        "X_R.shape"
      ],
      "metadata": {
        "colab": {
          "base_uri": "https://localhost:8080/"
        },
        "id": "A_4VF68FuSN6",
        "outputId": "3741d1a1-77e0-497a-fba2-53252a8f09c3"
      },
      "execution_count": null,
      "outputs": [
        {
          "output_type": "execute_result",
          "data": {
            "text/plain": [
              "(33404, 30000)"
            ]
          },
          "metadata": {},
          "execution_count": 13
        }
      ]
    },
    {
      "cell_type": "code",
      "source": [
        "#then I reshaped back to normal after oversampling\n",
        "X = X_R.reshape(len(y_R), 100, 100, 3)\n",
        "y = y_R"
      ],
      "metadata": {
        "id": "Qs2-bXbKRA_S"
      },
      "execution_count": null,
      "outputs": []
    },
    {
      "cell_type": "markdown",
      "source": [
        "splitting our data for training and testing"
      ],
      "metadata": {
        "id": "d5AB7sACcffU"
      }
    },
    {
      "cell_type": "code",
      "source": [
        "#then I split the data into train and test using the train_test_split funciton from sklearn\n",
        "X_train, X_test, y_train, y_test = train_test_split(\n",
        "    X, y , test_size=0.2, shuffle=True, stratify=y)"
      ],
      "metadata": {
        "id": "7wE6ksLvefVI"
      },
      "execution_count": null,
      "outputs": []
    },
    {
      "cell_type": "markdown",
      "source": [
        "applying hog feature extractors to our images"
      ],
      "metadata": {
        "id": "Pai1TTjWcjeC"
      }
    },
    {
      "cell_type": "code",
      "source": [
        "#I then applied hog to my images \n",
        "#this block of code is inspired from the SIFT feature extractor in lab 7 but its adapted to using hog feature extractors\n",
        "hog_list = []\n",
        "hog_features=[]\n",
        "labels_list = []\n",
        "\n",
        "fig, ax = plt.subplots(1, 4, figsize=(10, 8), sharex=True, sharey=True)\n",
        "\n",
        "#iterating all of the train images to apply hog feature extractor to them\n",
        "for i in range(len(X_train)):\n",
        "  img = img_as_ubyte(color.rgb2gray(X_train[i]))\n",
        "  #for this I got this from doing the hog exercise in lab 6 and used https://www.analyticsvidhya.com/blog/2019/09/feature-engineering-images-introduction-hog-feature-descriptor/ to help me understand it and get an example\n",
        "  #storing the features and the hog image when running the function on the grayscale image\n",
        "  fd, hog_image = hog(img, orientations=8, pixels_per_cell=(12, 12), cells_per_block=(1, 1), visualize=True)\n",
        "\n",
        "  #displaying how the hog images look\n",
        "  if i < 4:\n",
        "    hog_image_rescaled = exposure.rescale_intensity(hog_image, in_range=(0, 10))\n",
        "\n",
        "    ax[i].imshow(hog_image_rescaled, cmap=plt.cm.gray)\n",
        "    ax[i].set_title('HOG')\n",
        "\n",
        "  #adding the infromation we extracted to our lists we defined before the loop\n",
        "  hog_list.append(hog_image)\n",
        "  labels_list.append(y_train[i])\n",
        "  hog_features.append(fd)\n",
        " \n",
        "fig.tight_layout\n",
        "plt.show()"
      ],
      "metadata": {
        "colab": {
          "base_uri": "https://localhost:8080/",
          "height": 185
        },
        "id": "jbedRJChelkh",
        "outputId": "07c1f62d-bd29-40d2-8eb0-02bf0774464c"
      },
      "execution_count": null,
      "outputs": [
        {
          "output_type": "display_data",
          "data": {
            "text/plain": [
              "<Figure size 720x576 with 4 Axes>"
            ],
            "image/png": "[encoded data removed]"
          },
          "metadata": {
            "needs_background": "light"
          }
        }
      ]
    },
    {
      "cell_type": "markdown",
      "source": [
        "Creating our classifier to train"
      ],
      "metadata": {
        "id": "_ZDDl8AAc130"
      }
    },
    {
      "cell_type": "code",
      "source": [
        "#creating the classifier for the Support vector machine \n",
        "#this was adapted from lab 7 and also adapted from https://medium.com/all-things-ai/in-depth-parameter-tuning-for-svc-758215394769 to figure out the best hyper parameter tuning\n",
        "#I also used this video to help me tune my hyper parameters https://www.youtube.com/watch?v=Q7vT0--5VII&ab_channel=VisuallyExplained\n",
        "classifier = svm.SVC(kernel='rbf', gamma = 1)"
      ],
      "metadata": {
        "id": "5mp9C2ZxfDAu"
      },
      "execution_count": null,
      "outputs": []
    },
    {
      "cell_type": "code",
      "source": [
        "len(labels_list)"
      ],
      "metadata": {
        "colab": {
          "base_uri": "https://localhost:8080/"
        },
        "id": "EjFQedXQfuwa",
        "outputId": "e602bf34-02a2-4da9-ce8f-2500354271cd"
      },
      "execution_count": null,
      "outputs": [
        {
          "output_type": "execute_result",
          "data": {
            "text/plain": [
              "26723"
            ]
          },
          "metadata": {},
          "execution_count": 18
        }
      ]
    },
    {
      "cell_type": "code",
      "source": [
        "np.shape(hog_list)"
      ],
      "metadata": {
        "colab": {
          "base_uri": "https://localhost:8080/"
        },
        "id": "BDAuBydffWe3",
        "outputId": "19da77a3-a109-4b52-bc59-f8dbff79bc2b"
      },
      "execution_count": null,
      "outputs": [
        {
          "output_type": "execute_result",
          "data": {
            "text/plain": [
              "(26723, 100, 100)"
            ]
          },
          "metadata": {},
          "execution_count": 19
        }
      ]
    },
    {
      "cell_type": "code",
      "source": [
        "#converting to np array\n",
        "hog_array = np.vstack(hog_list)"
      ],
      "metadata": {
        "id": "9bftanf5faIr"
      },
      "execution_count": null,
      "outputs": []
    },
    {
      "cell_type": "code",
      "source": [
        "hog_array.shape"
      ],
      "metadata": {
        "colab": {
          "base_uri": "https://localhost:8080/"
        },
        "id": "1vmV8AfHEjBO",
        "outputId": "fd1834d2-c946-4555-9015-064b849c20fc"
      },
      "execution_count": null,
      "outputs": [
        {
          "output_type": "execute_result",
          "data": {
            "text/plain": [
              "(2672300, 100)"
            ]
          },
          "metadata": {},
          "execution_count": 21
        }
      ]
    },
    {
      "cell_type": "code",
      "source": [
        "#reshaping it so we can fit our model as we need a <=2d array but we currently had a 3d array\n",
        "hog_array = hog_array.reshape(len(labels_list), 100*100)"
      ],
      "metadata": {
        "id": "_bz4e5HTfmLz"
      },
      "execution_count": null,
      "outputs": []
    },
    {
      "cell_type": "code",
      "source": [
        "hog_array.shape"
      ],
      "metadata": {
        "colab": {
          "base_uri": "https://localhost:8080/"
        },
        "id": "kxwp4l0cPkui",
        "outputId": "164baee2-f519-4cd1-a3bc-075efda26bd9"
      },
      "execution_count": null,
      "outputs": [
        {
          "output_type": "execute_result",
          "data": {
            "text/plain": [
              "(26723, 10000)"
            ]
          },
          "metadata": {},
          "execution_count": 23
        }
      ]
    },
    {
      "cell_type": "code",
      "source": [
        "#fitting our classifier to train our model\n",
        "classifier.fit(hog_array, labels_list)"
      ],
      "metadata": {
        "id": "SH3rvMUxfGdU",
        "colab": {
          "base_uri": "https://localhost:8080/"
        },
        "outputId": "a12aa07c-53ec-4c85-bdc4-6debc5826566"
      },
      "execution_count": null,
      "outputs": [
        {
          "output_type": "execute_result",
          "data": {
            "text/plain": [
              "SVC(gamma=1)"
            ]
          },
          "metadata": {},
          "execution_count": 24
        }
      ]
    },
    {
      "cell_type": "markdown",
      "source": [
        "running hog feature extractos on the test images to be able to predict with"
      ],
      "metadata": {
        "id": "t5t2gcRCc59D"
      }
    },
    {
      "cell_type": "code",
      "source": [
        "#the same thing gets repeated as for the train images but this time for the test images in the same way\n",
        "hog_list_test = []\n",
        "hog_features_test=[]\n",
        "labels_list_test = []\n",
        "\n",
        "for i in range(len(X_test)):\n",
        "  img = img_as_ubyte(color.rgb2gray(X_test[i]))\n",
        "  fd, hog_image = hog(img, orientations=8, pixels_per_cell=(12, 12), cells_per_block=(1, 1), visualize=True)\n",
        "\n",
        "  hog_list_test.append(hog_image)\n",
        "  labels_list_test.append(y_test[i])\n",
        "  hog_features_test.append(fd)\n",
        "\n"
      ],
      "metadata": {
        "id": "svtA1nawho8e"
      },
      "execution_count": null,
      "outputs": []
    },
    {
      "cell_type": "code",
      "source": [
        "np.shape(hog_list_test)"
      ],
      "metadata": {
        "id": "xkj0v18riKZ4",
        "colab": {
          "base_uri": "https://localhost:8080/"
        },
        "outputId": "9ff10602-ca57-42af-be5f-a905abcdc8ce"
      },
      "execution_count": null,
      "outputs": [
        {
          "output_type": "execute_result",
          "data": {
            "text/plain": [
              "(6681, 100, 100)"
            ]
          },
          "metadata": {},
          "execution_count": 26
        }
      ]
    },
    {
      "cell_type": "code",
      "source": [
        "hog_array_test = np.vstack(hog_list_test)"
      ],
      "metadata": {
        "id": "2Dx2-USkiNwt"
      },
      "execution_count": null,
      "outputs": []
    },
    {
      "cell_type": "code",
      "source": [
        "hog_array_test = hog_array_test.reshape(len(labels_list_test), 100*100)"
      ],
      "metadata": {
        "id": "MC-p2EvyjISr"
      },
      "execution_count": null,
      "outputs": []
    },
    {
      "cell_type": "markdown",
      "source": [
        "predicting our test images"
      ],
      "metadata": {
        "id": "UpuBfh6HdFbQ"
      }
    },
    {
      "cell_type": "code",
      "source": [
        "#predicting our test images with our model to see the outcomes and accuracy\n",
        "y_pred = classifier.predict(hog_array_test)"
      ],
      "metadata": {
        "id": "r2rH88DliG84"
      },
      "execution_count": null,
      "outputs": []
    },
    {
      "cell_type": "markdown",
      "source": [
        "**Running tests on our images and displaying some statistics for how well the model performed**"
      ],
      "metadata": {
        "id": "mif0R2VCdIU2"
      }
    },
    {
      "cell_type": "code",
      "source": [
        "#I then plot the 4 images to see if they work and how they display\n",
        "fig, ax = plt.subplots(1, 4, figsize=(10, 8), sharex=True, sharey=True)\n",
        "\n",
        "for i in range(4):\n",
        "  ax[i].imshow(X_test[i], cmap=plt.cm.gray)\n",
        "  ax[i].set_title(f'actual: {y_test[i]}, prediction: {y_pred[i]}')"
      ],
      "metadata": {
        "id": "bfky5kgMj8Lj"
      },
      "execution_count": null,
      "outputs": []
    },
    {
      "cell_type": "code",
      "source": [
        "#here I print the report for the model prediction and I got this from the lab7 tutorial where they used it for the SIFT + SVM model\n",
        "from sklearn.metrics import classification_report,accuracy_score\n",
        "print(\"Accuracy for HOGSVM is: \"+str(accuracy_score(y_test, y_pred)))\n",
        "print('\\n')\n",
        "print(classification_report(y_test, y_pred))"
      ],
      "metadata": {
        "id": "N-7acFhtjPyx"
      },
      "execution_count": null,
      "outputs": []
    },
    {
      "cell_type": "code",
      "source": [
        "#I then plotted a confusion matrix to get a nice and this aswell was taken from lab 7 task 1.3 where I did the research and found https://scikit-learn.org/stable/modules/generated/sklearn.metrics.ConfusionMatrixDisplay.html\n",
        "#I also knew how to do this from my intro to AI module in term 1 where we had to use this many times\n",
        "metrics.ConfusionMatrixDisplay.from_predictions(y_test, y_pred)\n",
        "plt.show()"
      ],
      "metadata": {
        "id": "iElf02WKOGXh"
      },
      "execution_count": null,
      "outputs": []
    },
    {
      "cell_type": "code",
      "source": [
        "#I then saved my model using joblib and used this to assist me : https://machinelearningmastery.com/save-load-machine-learning-models-python-scikit-learn/\n",
        "from joblib import dump, load\n",
        "dump(classifier, os.path.join(GOOGLE_DRIVE_PATH, 'Models/HOGSVM.joblib')) "
      ],
      "metadata": {
        "id": "pDPBYa-mkp97",
        "colab": {
          "base_uri": "https://localhost:8080/"
        },
        "outputId": "a47994f0-9800-4514-ce99-2481d2026846"
      },
      "execution_count": null,
      "outputs": [
        {
          "output_type": "execute_result",
          "data": {
            "text/plain": [
              "['drive/My Drive/Colab Notebooks/CW_Folder_UG/CW_Folder_UG/Models/HOGSVM.joblib']"
            ]
          },
          "metadata": {},
          "execution_count": 25
        }
      ]
    }
  ]
}