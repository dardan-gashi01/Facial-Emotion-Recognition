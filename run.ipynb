{
  "nbformat": 4,
  "nbformat_minor": 0,
  "metadata": {
    "colab": {
      "name": "run.ipynb",
      "provenance": [],
      "collapsed_sections": [],
      "authorship_tag": "ABX9TyNkTtK698Msjxj5QeRBJ3Rr",
      "include_colab_link": true
    },
    "kernelspec": {
      "name": "python3",
      "display_name": "Python 3"
    },
    "language_info": {
      "name": "python"
    },
    "accelerator": "GPU"
  },
  "cells": [
    {
      "cell_type": "markdown",
      "metadata": {
        "id": "view-in-github",
        "colab_type": "text"
      },
      "source": [
        "<a href=\"https://colab.research.google.com/github/dardan-gashi01/IN3060-CW/blob/main/run.ipynb\" target=\"_parent\"><img src=\"https://colab.research.google.com/assets/colab-badge.svg\" alt=\"Open In Colab\"/></a>"
      ]
    },
    {
      "cell_type": "code",
      "execution_count": 6,
      "metadata": {
        "id": "S5OLCtYbjSJX",
        "colab": {
          "base_uri": "https://localhost:8080/"
        },
        "outputId": "97036874-b5c7-476b-e648-1dad341f0c05"
      },
      "outputs": [
        {
          "output_type": "stream",
          "name": "stdout",
          "text": [
            "Mounted at /content/drive\n"
          ]
        }
      ],
      "source": [
        "from google.colab import drive\n",
        "drive.mount('/content/drive')"
      ]
    },
    {
      "cell_type": "code",
      "source": [
        "import os\n",
        "\n",
        "# TODO: Fill in the Google Drive path where you uploaded the lab materials\n",
        "# Example: GOOGLE_DRIVE_PATH_AFTER_MYDRIVE = 'Colab Notebooks/Lab materials 01-20210104'\n",
        "\n",
        "GOOGLE_DRIVE_PATH_AFTER_MYDRIVE = 'Colab Notebooks/CW_Folder_UG/CW_Folder_UG' \n",
        "GOOGLE_DRIVE_PATH = os.path.join('drive', 'My Drive', GOOGLE_DRIVE_PATH_AFTER_MYDRIVE)\n",
        "print(os.listdir(GOOGLE_DRIVE_PATH))"
      ],
      "metadata": {
        "colab": {
          "base_uri": "https://localhost:8080/"
        },
        "id": "BOPoClhRNtHM",
        "outputId": "da1f20d8-f9c0-431c-de9e-e2e4fe08d9fa"
      },
      "execution_count": 7,
      "outputs": [
        {
          "output_type": "stream",
          "name": "stdout",
          "text": [
            "['Code', 'test_functions.ipynb', '.DS_Store', 'CW_Dataset.zip', 'Models', 'Personal_Dataset']\n"
          ]
        }
      ]
    },
    {
      "cell_type": "code",
      "source": [
        "import cv2\n",
        "from sklearn.model_selection import train_test_split\n",
        "from skimage import img_as_ubyte, io, color\n",
        "from sklearn.cluster import MiniBatchKMeans\n",
        "from sklearn import svm, metrics\n",
        "from skimage.feature import hog\n",
        "import matplotlib.pyplot as plt\n",
        "import numpy as np\n",
        "from collections import Counter\n",
        "from skimage import exposure\n",
        "import torch"
      ],
      "metadata": {
        "id": "V4gaCaCoko_H"
      },
      "execution_count": 8,
      "outputs": []
    },
    {
      "cell_type": "code",
      "source": [
        "zip_path = os.path.join(GOOGLE_DRIVE_PATH, 'CW_Dataset.zip')\n",
        "\n",
        "!cp '{zip_path}' .\n",
        "\n",
        "!yes|unzip -q CW_Dataset.zip\n",
        "\n",
        "!rm CW_Dataset.zip"
      ],
      "metadata": {
        "id": "NsXWNcQkkWKo"
      },
      "execution_count": 9,
      "outputs": []
    },
    {
      "cell_type": "code",
      "source": [
        "import os, shutil\n",
        "\n",
        "def make_dir_if_not_exists(path):\n",
        "  if not os.path.isdir(path):\n",
        "    os.mkdir(path)\n",
        "\n",
        "\n",
        "def dataFolder2(trainImgPath, testImgPath, trainLabelPath, testLabelPath):\n",
        "  #creating empty folders\n",
        "  make_dir_if_not_exists('./DataFolder')\n",
        "  make_dir_if_not_exists('./DataFolder/train')\n",
        "  make_dir_if_not_exists('./DataFolder/test')\n",
        "  for i in range(1,8):\n",
        "    make_dir_if_not_exists(f'./DataFolder/train/{str(i)}')\n",
        "    make_dir_if_not_exists(f'./DataFolder/test/{str(i)}')\n",
        "\n",
        "  trainPath = './DataFolder/train'\n",
        "  testPath = './DataFolder/test'\n",
        "\n",
        "  file_names = [file for file in os.listdir(trainImgPath) if file.endswith('.jpg')]\n",
        "  parsed_data = {}\n",
        "  with open (trainLabelPath, \"r\") as myfile:\n",
        "    data = myfile.readlines()\n",
        "    for line_data in data:\n",
        "      file_name, number = line_data.strip().split(\" \")\n",
        "      parsed_data[file_name] = number\n",
        "\n",
        "  for file in file_names:\n",
        "    shutil.copy(f\"{trainImgPath}/{file}\", f\"{trainPath}/{parsed_data[file.replace('_aligned', '')]}/{file}\")\n",
        "    #print(\"image file: \" + file + ' class: ' + parsed_data[file.replace(\"_aligned\", \"\")])\n",
        "  #load images into the correct folders\n",
        "\n",
        "\n",
        "  file_names = [file for file in os.listdir(testImgPath) if file.endswith('.jpg')]\n",
        "  parsed_data = {}\n",
        "  with open (testLabelPath, \"r\") as myfile:\n",
        "    data = myfile.readlines()\n",
        "    for line_data in data:\n",
        "      file_name, number = line_data.strip().split(\" \")\n",
        "      parsed_data[file_name] = number\n",
        "\n",
        "  for file in file_names:\n",
        "    shutil.copy(f\"{testImgPath}/{file}\", f\"{testPath}/{parsed_data[file.replace('_aligned', '')]}/{file}\")\n",
        "    #print(\"image file: \" + file + ' class: ' + parsed_data[file.replace(\"_aligned\", \"\")])\n",
        "  #load images into the correct folders"
      ],
      "metadata": {
        "id": "op2aoVbjipIC"
      },
      "execution_count": 10,
      "outputs": []
    },
    {
      "cell_type": "code",
      "source": [
        "dataFolder2('train', 'test', 'labels/list_label_train.txt', 'labels/list_label_test.txt')"
      ],
      "metadata": {
        "id": "l2JAHHwIkcVU"
      },
      "execution_count": 11,
      "outputs": []
    },
    {
      "cell_type": "code",
      "source": [
        "def import_selected_data(path, label_list):\n",
        "    \"\"\"Load images and labels from selected directories\"\"\"\n",
        "    images = []\n",
        "    labels = []\n",
        "\n",
        "    if label_list is None:\n",
        "        folder_names = [folder for folder in sorted(os.listdir(path)) if not folder.startswith('.')]\n",
        "    else:\n",
        "        folder_names = [folder for folder in sorted(os.listdir(path)) if folder in label_list]\n",
        "\n",
        "    for folder in folder_names:\n",
        "        file_names = [file for file in sorted(os.listdir(os.path.join(path, folder))) if file.endswith('.jpg')]\n",
        "        for file in file_names:\n",
        "            images.append(io.imread(os.path.join(path, folder, file)))\n",
        "            labels.append(folder)\n",
        "\n",
        "    return images, labels"
      ],
      "metadata": {
        "id": "kKh04lxXkgUD"
      },
      "execution_count": 12,
      "outputs": []
    },
    {
      "cell_type": "code",
      "source": [
        "X, y = import_selected_data('DataFolder/test', label_list=['1', '2', '3','4','5','6','7'])"
      ],
      "metadata": {
        "id": "HtFJpZTwkiZe"
      },
      "execution_count": null,
      "outputs": []
    },
    {
      "cell_type": "markdown",
      "source": [
        "**Load CNN photos test**"
      ],
      "metadata": {
        "id": "Z_3eqG-JmOjt"
      }
    },
    {
      "cell_type": "code",
      "source": [
        ""
      ],
      "metadata": {
        "id": "UyOVKXPVmNOx"
      },
      "execution_count": null,
      "outputs": []
    },
    {
      "cell_type": "code",
      "source": [
        "def EmotionRecognition(path_to_testset, model_type):\n",
        "  X, y = import_selected_data(path_to_testset, label_list=['1', '2', '3','4','5','6','7'])\n",
        "  #model_type values are SVM, MLP and CNN\n",
        "  if(model_type == \"SVM\"):\n",
        "    print(\"SVM\")\n",
        "  elif(model_type == \"MLP\"):\n",
        "    print(\"MLP\")\n",
        "  elif(model_type == \"CNN\"):\n",
        "    print(\"CNN\")\n",
        "    model = torch.load((os.path.join(GOOGLE_DRIVE_PATH, 'Models/CNN.pth')), map_location=torch.device('cpu'))\n",
        "    model.eval()\n",
        "  else:\n",
        "    print(\"type a valid model\")"
      ],
      "metadata": {
        "id": "tiWJZW8bjWjw"
      },
      "execution_count": 18,
      "outputs": []
    },
    {
      "cell_type": "code",
      "source": [
        "EmotionRecognition('DataFolder/test', \"CNN\")"
      ],
      "metadata": {
        "colab": {
          "base_uri": "https://localhost:8080/"
        },
        "id": "-hqafcYIkJfI",
        "outputId": "1b55f55f-fd83-48d7-83a2-357e03d87f81"
      },
      "execution_count": 19,
      "outputs": [
        {
          "output_type": "stream",
          "name": "stdout",
          "text": [
            "CNN\n"
          ]
        }
      ]
    }
  ]
}