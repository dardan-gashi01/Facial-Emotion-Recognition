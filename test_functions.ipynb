{
  "nbformat": 4,
  "nbformat_minor": 0,
  "metadata": {
    "colab": {
      "name": "test_functions.ipynb",
      "provenance": [],
      "collapsed_sections": [],
      "include_colab_link": true
    },
    "kernelspec": {
      "display_name": "Python 3",
      "language": "python",
      "name": "python3"
    },
    "language_info": {
      "codemirror_mode": {
        "name": "ipython",
        "version": 3
      },
      "file_extension": ".py",
      "mimetype": "text/x-python",
      "name": "python",
      "nbconvert_exporter": "python",
      "pygments_lexer": "ipython3",
      "version": "3.7.5"
    }
  },
  "cells": [
    {
      "cell_type": "markdown",
      "metadata": {
        "id": "view-in-github",
        "colab_type": "text"
      },
      "source": [
        "<a href=\"https://colab.research.google.com/github/dardan-gashi01/IN3060-CW/blob/main/test_functions.ipynb\" target=\"_parent\"><img src=\"https://colab.research.google.com/assets/colab-badge.svg\" alt=\"Open In Colab\"/></a>"
      ]
    },
    {
      "cell_type": "markdown",
      "metadata": {
        "id": "QcJK3kXl--c3"
      },
      "source": [
        "# Computer Vision Coursework Submission (IN3060/INM460)\n",
        "\n",
        "**Student name, ID and cohort:** John Doe (200056789) - UG\n"
      ]
    },
    {
      "cell_type": "markdown",
      "metadata": {
        "id": "6rVDkKZEEKIp"
      },
      "source": [
        "# Notebook Setup\n",
        "In this section you should include all the code cells required to test your coursework submission. Specifically:"
      ]
    },
    {
      "cell_type": "markdown",
      "source": [
        "### Mount Google Drive"
      ],
      "metadata": {
        "id": "I3D_ONirhSvw"
      }
    },
    {
      "cell_type": "code",
      "metadata": {
        "id": "Kl3ZyAAVEKI1",
        "colab": {
          "base_uri": "https://localhost:8080/"
        },
        "outputId": "5f6c03db-d558-4f73-ce55-828284a969d6"
      },
      "source": [
        "from google.colab import drive\n",
        "drive.mount('/content/drive')"
      ],
      "execution_count": null,
      "outputs": [
        {
          "output_type": "stream",
          "name": "stdout",
          "text": [
            "Mounted at /content/drive\n"
          ]
        }
      ]
    },
    {
      "cell_type": "markdown",
      "metadata": {
        "id": "RxIKS3ukEKI2"
      },
      "source": [
        "### Define Local Path\n",
        "\n",
        "In the next cell you should assign to the variable `GOOGLE_DRIVE_PATH_AFTER_MYDRIVE` the relative path of this folder in your Google Drive.\n",
        "\n",
        "**IMPORTANT:** you have to make sure that **all the files required to test your functions are loaded using this variable** (as was the case for all lab tutorials). In other words, do not use in the notebook any absolute paths. This will ensure that the markers can run your functions. Also, **do not use** the magic command `%cd` to change directory.\n",
        "\n"
      ]
    },
    {
      "cell_type": "code",
      "metadata": {
        "id": "28VgE7dMEKI2",
        "colab": {
          "base_uri": "https://localhost:8080/"
        },
        "outputId": "79c80290-3bd3-464d-8a58-3f7135d0da2c"
      },
      "source": [
        "import os\n",
        "\n",
        "# TODO: Fill in the Google Drive path where you uploaded the CW_folder_UG\n",
        "# Example: GOOGLE_DRIVE_PATH_AFTER_MYDRIVE = 'Colab Notebooks/Computer Vision/CW_folder_UG'\n",
        "\n",
        "GOOGLE_DRIVE_PATH_AFTER_MYDRIVE = 'Colab Notebooks/CW_Folder_UG/CW_Folder_UG'\n",
        "GOOGLE_DRIVE_PATH = os.path.join('drive', 'My Drive', GOOGLE_DRIVE_PATH_AFTER_MYDRIVE)\n",
        "print(os.listdir(GOOGLE_DRIVE_PATH))"
      ],
      "execution_count": null,
      "outputs": [
        {
          "output_type": "stream",
          "name": "stdout",
          "text": [
            "['.DS_Store', 'CW_Dataset.zip', 'Code', 'Models', 'Personal_Dataset', 'Untitled0.ipynb', 'test_functions.ipynb']\n"
          ]
        }
      ]
    },
    {
      "cell_type": "markdown",
      "metadata": {
        "id": "747B4GKgvHsv"
      },
      "source": [
        "### Load packages \n",
        "\n",
        "In the next cell you should load all the packages required to test your functions."
      ]
    },
    {
      "cell_type": "code",
      "source": [
        "import matplotlib.pyplot as plt\n",
        "import numpy as np\n",
        "from joblib import dump, load\n",
        "import torch\n",
        "from torchvision import datasets, models, transforms\n",
        "import shutil\n",
        "from skimage import img_as_ubyte, io, color\n",
        "import cv2"
      ],
      "metadata": {
        "id": "FlNicHnRkrcp"
      },
      "execution_count": null,
      "outputs": []
    },
    {
      "cell_type": "markdown",
      "source": [
        "### Load models\n",
        "\n",
        "In the next cell you should load all your trained models for easier testing of your functions. Avoid to load them within `EmotionRecognition` to avoid having to reload them each time."
      ],
      "metadata": {
        "id": "O_ag6odkk1Ki"
      }
    },
    {
      "cell_type": "code",
      "source": [
        "#hog-svm = load(os.path.join(GOOGLE_DRIVE_PATH, 'Models','hog-svm.joblib'))\n",
        "cnn = torch.load((os.path.join(GOOGLE_DRIVE_PATH, 'Models/CNN.pth')), map_location=torch.device('cpu'))\n",
        "hogsvm = load(os.path.join(GOOGLE_DRIVE_PATH, 'Models', 'HOGSVM.joblib'))\n",
        "hogmlp = load(os.path.join(GOOGLE_DRIVE_PATH, 'Models', 'HOGMLP.joblib'))"
      ],
      "metadata": {
        "id": "UCpF4Aa6lhnO"
      },
      "execution_count": null,
      "outputs": []
    },
    {
      "cell_type": "markdown",
      "metadata": {
        "id": "Qc83ETI1a3o9"
      },
      "source": [
        "# Test EmotionRecognition\n",
        "\n",
        "This section should allow a quick test of the `EmotionRecognition` function. First, add cells with the code needed to load the necessary subroutines to make `EmotionRecognition` work."
      ]
    },
    {
      "cell_type": "code",
      "source": [
        "zip_path = os.path.join(GOOGLE_DRIVE_PATH, 'CW_Dataset.zip')\n",
        "\n",
        "!cp '{zip_path}' .\n",
        "\n",
        "!yes|unzip -q CW_Dataset.zip\n",
        "\n",
        "!rm CW_Dataset.zip"
      ],
      "metadata": {
        "id": "r5GwnRcgpLSZ"
      },
      "execution_count": null,
      "outputs": []
    },
    {
      "cell_type": "code",
      "source": [
        "import os, shutil\n",
        "\n",
        "def make_dir_if_not_exists(path):\n",
        "  if not os.path.isdir(path):\n",
        "    os.mkdir(path)\n",
        "\n",
        "\n",
        "def dataFolder2(trainImgPath, testImgPath, trainLabelPath, testLabelPath):\n",
        "  #creating empty folders\n",
        "  make_dir_if_not_exists('./DataFolder')\n",
        "  make_dir_if_not_exists('./DataFolder/train')\n",
        "  make_dir_if_not_exists('./DataFolder/test')\n",
        "  for i in range(1,8):\n",
        "    make_dir_if_not_exists(f'./DataFolder/train/{str(i)}')\n",
        "    make_dir_if_not_exists(f'./DataFolder/test/{str(i)}')\n",
        "\n",
        "  trainPath = './DataFolder/train'\n",
        "  testPath = './DataFolder/test'\n",
        "\n",
        "  file_names = [file for file in os.listdir(trainImgPath) if file.endswith('.jpg')]\n",
        "  parsed_data = {}\n",
        "  with open (trainLabelPath, \"r\") as myfile:\n",
        "    data = myfile.readlines()\n",
        "    for line_data in data:\n",
        "      file_name, number = line_data.strip().split(\" \")\n",
        "      parsed_data[file_name] = number\n",
        "\n",
        "  for file in file_names:\n",
        "    shutil.copy(f\"{trainImgPath}/{file}\", f\"{trainPath}/{parsed_data[file.replace('_aligned', '')]}/{file}\")\n",
        "    #print(\"image file: \" + file + ' class: ' + parsed_data[file.replace(\"_aligned\", \"\")])\n",
        "  #load images into the correct folders\n",
        "\n",
        "\n",
        "  file_names = [file for file in os.listdir(testImgPath) if file.endswith('.jpg')]\n",
        "  parsed_data = {}\n",
        "  with open (testLabelPath, \"r\") as myfile:\n",
        "    data = myfile.readlines()\n",
        "    for line_data in data:\n",
        "      file_name, number = line_data.strip().split(\" \")\n",
        "      parsed_data[file_name] = number\n",
        "\n",
        "  for file in file_names:\n",
        "    shutil.copy(f\"{testImgPath}/{file}\", f\"{testPath}/{parsed_data[file.replace('_aligned', '')]}/{file}\")\n",
        "    #print(\"image file: \" + file + ' class: ' + parsed_data[file.replace(\"_aligned\", \"\")])\n",
        "  #load images into the correct folders"
      ],
      "metadata": {
        "id": "K5X_nA0vKQ9d"
      },
      "execution_count": null,
      "outputs": []
    },
    {
      "cell_type": "code",
      "source": [
        "dataFolder2('train', 'test', 'labels/list_label_train.txt', 'labels/list_label_test.txt')"
      ],
      "metadata": {
        "id": "8OhMOSWXKWhL"
      },
      "execution_count": null,
      "outputs": []
    },
    {
      "cell_type": "code",
      "source": [
        "def import_selected_data(path, label_list):\n",
        "    \"\"\"Load images and labels from selected directories\"\"\"\n",
        "    images = []\n",
        "    labels = []\n",
        "\n",
        "    if label_list is None:\n",
        "        folder_names = [folder for folder in sorted(os.listdir(path)) if not folder.startswith('.')]\n",
        "    else:\n",
        "        folder_names = [folder for folder in sorted(os.listdir(path)) if folder in label_list]\n",
        "\n",
        "    for folder in folder_names:\n",
        "        file_names = [file for file in sorted(os.listdir(os.path.join(path, folder))) if file.endswith('.jpg')]\n",
        "        for file in file_names:\n",
        "            images.append(io.imread(os.path.join(path, folder, file)))\n",
        "            labels.append(folder)\n",
        "\n",
        "    return images, labels"
      ],
      "metadata": {
        "id": "V_z0Ria4Kf_0"
      },
      "execution_count": null,
      "outputs": []
    },
    {
      "cell_type": "markdown",
      "source": [
        "**fixing up the data so that we can run tests on the pytorch model**"
      ],
      "metadata": {
        "id": "i0WryakwK2dK"
      }
    },
    {
      "cell_type": "code",
      "source": [
        "device = torch.device(\"cuda:0\" if torch.cuda.is_available() else \"cpu\")\n",
        "\n",
        "data_means = [0.485, 0.456, 0.406]\n",
        "data_stds = [0.229, 0.224, 0.225]\n",
        "data_transforms = {\n",
        "    'train': transforms.Compose([\n",
        "        transforms.RandomResizedCrop(224),\n",
        "        transforms.RandomHorizontalFlip(),\n",
        "        transforms.ToTensor(),\n",
        "        transforms.Normalize(data_means, data_stds)\n",
        "    ]),\n",
        "    'test': transforms.Compose([\n",
        "        transforms.Resize(256),\n",
        "        transforms.CenterCrop(224),\n",
        "        transforms.ToTensor(),\n",
        "        transforms.Normalize(data_means, data_stds)\n",
        "    ]),\n",
        "}\n",
        "\n",
        "image_datasets = {x: datasets.ImageFolder(os.path.join('DataFolder', x),\n",
        "                                          data_transforms[x])\n",
        "                  for x in ['train', 'test']}\n",
        "dataloaders = {x: torch.utils.data.DataLoader(image_datasets[x], batch_size=4,\n",
        "                                             shuffle=True, num_workers=2)\n",
        "              for x in ['train', 'test']}\n",
        "\n",
        "class_names = image_datasets['test'].classes"
      ],
      "metadata": {
        "id": "m8LrZmK3K1uN"
      },
      "execution_count": null,
      "outputs": []
    },
    {
      "cell_type": "code",
      "source": [
        "def imshow(inp, title=None):\n",
        "    \"\"\"Imshow for Tensor.\"\"\"\n",
        "    inp = inp.numpy().transpose((1, 2, 0))\n",
        "    inp = np.asarray(data_stds) * inp + np.asarray(data_means)\n",
        "    inp = np.clip(inp, 0, 1)       # Clip to intensity outliers to [0, 1] range\n",
        "    plt.imshow(inp)\n",
        "    if title is not None:\n",
        "        plt.title(title)\n",
        "\n",
        "def visualize_model(model, num_images=4):\n",
        "    was_training = model.training\n",
        "    model.eval()\n",
        "    images_so_far = 0\n",
        "\n",
        "    with torch.no_grad():\n",
        "        for i, (inputs, labels) in enumerate(dataloaders['test']):\n",
        "            inputs = inputs.to(device)\n",
        "            labels = labels.to(device)\n",
        "\n",
        "            outputs = model(inputs)\n",
        "            _, preds = torch.max(outputs, 1)\n",
        "\n",
        "            for j in range(inputs.size()[0]):\n",
        "                images_so_far += 1\n",
        "                ax = plt.subplot(1, 4, images_so_far)\n",
        "                ax.axis('off')\n",
        "                ax.set_title(f\"Predicted: {class_names[preds[j]]} \\n Actual: {class_names[labels[j]]}\")\n",
        "                imshow(inputs.cpu().data[j])\n",
        "                #imshow(inputs.cpu().data[j])        # move back the data to the CPU for visualisation\n",
        "\n",
        "                if images_so_far == num_images:\n",
        "                    model.train(mode=was_training)\n",
        "                    return\n",
        "        model.train(mode=was_training)"
      ],
      "metadata": {
        "id": "8MNpJeTxLKXH"
      },
      "execution_count": null,
      "outputs": []
    },
    {
      "cell_type": "markdown",
      "source": [
        "**FIXING DATA FOR THE HOGSVM MODEL**"
      ],
      "metadata": {
        "id": "7ep2GaF3foWS"
      }
    },
    {
      "cell_type": "code",
      "source": [
        "from skimage.feature import hog\n",
        "\n",
        "def hogimages(images, labels):\n",
        "  hog_list_test = []\n",
        "  hog_features_test=[]\n",
        "  labels_list_test = []\n",
        "\n",
        "  for i in range(len(images)):\n",
        "    img = cv2.cvtColor(images[i], cv2.COLOR_BGR2GRAY)\n",
        "    fd, hog_image = hog(img, orientations=8, pixels_per_cell=(16, 16), cells_per_block=(1, 1), visualize=True)\n",
        "\n",
        "    hog_list_test.append(hog_image)\n",
        "    labels_list_test.append(labels[i])\n",
        "    hog_features_test.append(fd)\n",
        "\n",
        "\n",
        "  hog_array_test = np.vstack(hog_list_test)\n",
        "  hog_array_test = hog_array_test.reshape(len(labels_list_test), 100*100)\n",
        "  return hog_array_test"
      ],
      "metadata": {
        "id": "aXkvP6iGftze"
      },
      "execution_count": null,
      "outputs": []
    },
    {
      "cell_type": "code",
      "source": [
        "#plotting images for hog models\n",
        "def plotImages(images, labels, pred):\n",
        "  fig, ax = plt.subplots(1, 4, figsize=(10, 8), sharex=True, sharey=True)\n",
        "\n",
        "  for i in range(4):\n",
        "    ax[i].imshow(images[i], cmap=plt.cm.gray)\n",
        "    ax[i].set_title(f'actual: {labels[i]}, prediction: {pred[i]}')\n",
        "\n",
        "  "
      ],
      "metadata": {
        "id": "b3VmxJ5OgwsP"
      },
      "execution_count": null,
      "outputs": []
    },
    {
      "cell_type": "markdown",
      "source": [
        "**FIXING DATA FOR THEH HOGMLP MODEL**"
      ],
      "metadata": {
        "id": "lVBisHuvXEd4"
      }
    },
    {
      "cell_type": "code",
      "source": [
        "from skimage.feature import hog\n",
        "\n",
        "def hogimages2(images, labels):\n",
        "  hog_list_test = []\n",
        "  hog_features_test=[]\n",
        "  labels_list_test = []\n",
        "\n",
        "  for i in range(len(images)):\n",
        "    \n",
        "    img = cv2.cvtColor(images[i], cv2.COLOR_BGR2GRAY)\n",
        "    \n",
        "    fd, hog_image = hog(images[i], orientations=8, pixels_per_cell=(12, 12), cells_per_block=(1, 1), visualize=True)\n",
        "\n",
        "    hog_list_test.append(hog_image)\n",
        "    labels_list_test.append(labels[i])\n",
        "    hog_features_test.append(fd)\n",
        "\n",
        "\n",
        "  hog_array_test = np.vstack(hog_list_test)\n",
        "  hog_array_test = hog_array_test.reshape(len(labels_list_test), 100*100)\n",
        "  #hog_array_test = hog_array_test.reshape(len(labels_list_test), hog_array_test[1]*hog_array_test[2])\n",
        "  return hog_array_test"
      ],
      "metadata": {
        "id": "dsZ7Z8U7XRLY"
      },
      "execution_count": null,
      "outputs": []
    },
    {
      "cell_type": "markdown",
      "source": [
        "**EmotionRecognition Function**"
      ],
      "metadata": {
        "id": "9txo74JdLXJu"
      }
    },
    {
      "cell_type": "code",
      "source": [
        "def EmotionRecognition(path_to_testset, model_type):\n",
        "  X, y = import_selected_data(path_to_testset, label_list=['1', '2', '3','4','5','6','7'])\n",
        "  #model_type values are SVM, MLP and CNN\n",
        "  if(model_type == \"hogsvm\"):\n",
        "    print(\"HOGSVM\")\n",
        "    testing = hogimages(X, y)\n",
        "    y_pred = hogsvm.predict(testing)\n",
        "    plotImages(X,y,y_pred)\n",
        "  elif(model_type == \"hogmlp\"):\n",
        "    print(\"HOGMLP\")\n",
        "    testing = hogimages2(X, y)\n",
        "    y_pred = hogmlp.predict(testing)\n",
        "    plotImages(X,y,y_pred)\n",
        "  elif(model_type == \"cnn\"):\n",
        "    print(\"CNN\")\n",
        "    cnn.eval()\n",
        "    visualize_model(cnn)\n",
        "  else:\n",
        "    print(\"type a valid model\")"
      ],
      "metadata": {
        "id": "KhBd0EDBLQ5Q"
      },
      "execution_count": null,
      "outputs": []
    },
    {
      "cell_type": "markdown",
      "source": [
        "Then, make a call to the `EmotionRecognition` function to see what results it produces. You must also indicate the syntax needed to test your different models."
      ],
      "metadata": {
        "id": "mHVBUe82pLz6"
      }
    },
    {
      "cell_type": "code",
      "metadata": {
        "colab": {
          "base_uri": "https://localhost:8080/",
          "height": 153
        },
        "id": "TDdtINQCn0Al",
        "outputId": "7f0763e1-e88a-461e-b99b-6e6fc13229d9"
      },
      "source": [
        "# Syntax for the next function is the following:\n",
        "# \n",
        "# EmotionRecognition(path_to_testset, model_type)\n",
        "# \n",
        "# where model_type can be one of\n",
        "#   - hog-svm\n",
        "#   - hog-mlp\n",
        "#   - cnn\n",
        "\n",
        "path_to_testset = ('DataFolder/test')\n",
        "EmotionRecognition(path_to_testset, 'cnn')"
      ],
      "execution_count": null,
      "outputs": [
        {
          "output_type": "stream",
          "name": "stdout",
          "text": [
            "CNN\n"
          ]
        },
        {
          "output_type": "display_data",
          "data": {
            "text/plain": [
              "<Figure size 432x288 with 4 Axes>"
            ],
            "image/png": "[encoded data removed]"
          },
          "metadata": {
            "needs_background": "light"
          }
        }
      ]
    },
    {
      "cell_type": "markdown",
      "metadata": {
        "id": "QAuCRTarp5DS"
      },
      "source": [
        "# Test EmotionRecognition in the wild\n",
        "\n",
        "This section should allow a quick test of the `EmotionRecognition` on your `Personal_Dataset`."
      ]
    },
    {
      "cell_type": "code",
      "metadata": {
        "id": "ywL6UJZoyqnf",
        "colab": {
          "base_uri": "https://localhost:8080/",
          "height": 362
        },
        "outputId": "04e0534e-2666-40bd-ee8d-6dfee2e248e6"
      },
      "source": [
        "# Syntax for the next function is the following:\n",
        "# \n",
        "# EmotionRecognition(path_to_testset, model_type)\n",
        "# \n",
        "# where model_type can be one of\n",
        "#   - hog-svm\n",
        "#   - hog-mlp\n",
        "#   - cnn\n",
        "\n",
        "\n",
        "path_to_testset = os.path.join(GOOGLE_DRIVE_PATH, 'Personal_Dataset')\n",
        "EmotionRecognition(path_to_testset, 'hogmlp')"
      ],
      "execution_count": null,
      "outputs": [
        {
          "output_type": "stream",
          "name": "stdout",
          "text": [
            "HOGMLP\n"
          ]
        },
        {
          "output_type": "error",
          "ename": "TypeError",
          "evalue": "ignored",
          "traceback": [
            "\u001b[0;31m---------------------------------------------------------------------------\u001b[0m",
            "\u001b[0;31mTypeError\u001b[0m                                 Traceback (most recent call last)",
            "\u001b[0;32m<ipython-input-37-3402e8d059b8>\u001b[0m in \u001b[0;36m<module>\u001b[0;34m()\u001b[0m\n\u001b[1;32m     10\u001b[0m \u001b[0;34m\u001b[0m\u001b[0m\n\u001b[1;32m     11\u001b[0m \u001b[0mpath_to_testset\u001b[0m \u001b[0;34m=\u001b[0m \u001b[0mos\u001b[0m\u001b[0;34m.\u001b[0m\u001b[0mpath\u001b[0m\u001b[0;34m.\u001b[0m\u001b[0mjoin\u001b[0m\u001b[0;34m(\u001b[0m\u001b[0mGOOGLE_DRIVE_PATH\u001b[0m\u001b[0;34m,\u001b[0m \u001b[0;34m'Personal_Dataset'\u001b[0m\u001b[0;34m)\u001b[0m\u001b[0;34m\u001b[0m\u001b[0;34m\u001b[0m\u001b[0m\n\u001b[0;32m---> 12\u001b[0;31m \u001b[0mEmotionRecognition\u001b[0m\u001b[0;34m(\u001b[0m\u001b[0mpath_to_testset\u001b[0m\u001b[0;34m,\u001b[0m \u001b[0;34m'hogmlp'\u001b[0m\u001b[0;34m)\u001b[0m\u001b[0;34m\u001b[0m\u001b[0;34m\u001b[0m\u001b[0m\n\u001b[0m",
            "\u001b[0;32m<ipython-input-33-69a52c269c66>\u001b[0m in \u001b[0;36mEmotionRecognition\u001b[0;34m(path_to_testset, model_type)\u001b[0m\n\u001b[1;32m      9\u001b[0m   \u001b[0;32melif\u001b[0m\u001b[0;34m(\u001b[0m\u001b[0mmodel_type\u001b[0m \u001b[0;34m==\u001b[0m \u001b[0;34m\"hogmlp\"\u001b[0m\u001b[0;34m)\u001b[0m\u001b[0;34m:\u001b[0m\u001b[0;34m\u001b[0m\u001b[0;34m\u001b[0m\u001b[0m\n\u001b[1;32m     10\u001b[0m     \u001b[0mprint\u001b[0m\u001b[0;34m(\u001b[0m\u001b[0;34m\"HOGMLP\"\u001b[0m\u001b[0;34m)\u001b[0m\u001b[0;34m\u001b[0m\u001b[0;34m\u001b[0m\u001b[0m\n\u001b[0;32m---> 11\u001b[0;31m     \u001b[0mtesting\u001b[0m \u001b[0;34m=\u001b[0m \u001b[0mhogimages2\u001b[0m\u001b[0;34m(\u001b[0m\u001b[0mX\u001b[0m\u001b[0;34m,\u001b[0m \u001b[0my\u001b[0m\u001b[0;34m)\u001b[0m\u001b[0;34m\u001b[0m\u001b[0;34m\u001b[0m\u001b[0m\n\u001b[0m\u001b[1;32m     12\u001b[0m     \u001b[0my_pred\u001b[0m \u001b[0;34m=\u001b[0m \u001b[0mhogmlp\u001b[0m\u001b[0;34m.\u001b[0m\u001b[0mpredict\u001b[0m\u001b[0;34m(\u001b[0m\u001b[0mtesting\u001b[0m\u001b[0;34m)\u001b[0m\u001b[0;34m\u001b[0m\u001b[0;34m\u001b[0m\u001b[0m\n\u001b[1;32m     13\u001b[0m     \u001b[0mplotImages\u001b[0m\u001b[0;34m(\u001b[0m\u001b[0mX\u001b[0m\u001b[0;34m,\u001b[0m\u001b[0my\u001b[0m\u001b[0;34m,\u001b[0m\u001b[0my_pred\u001b[0m\u001b[0;34m)\u001b[0m\u001b[0;34m\u001b[0m\u001b[0;34m\u001b[0m\u001b[0m\n",
            "\u001b[0;32m<ipython-input-36-76fa2cc5e628>\u001b[0m in \u001b[0;36mhogimages2\u001b[0;34m(images, labels)\u001b[0m\n\u001b[1;32m     19\u001b[0m   \u001b[0mhog_array_test\u001b[0m \u001b[0;34m=\u001b[0m \u001b[0mnp\u001b[0m\u001b[0;34m.\u001b[0m\u001b[0mvstack\u001b[0m\u001b[0;34m(\u001b[0m\u001b[0mhog_list_test\u001b[0m\u001b[0;34m)\u001b[0m\u001b[0;34m\u001b[0m\u001b[0;34m\u001b[0m\u001b[0m\n\u001b[1;32m     20\u001b[0m   \u001b[0;31m#hog_array_test = hog_array_test.reshape(len(labels_list_test), 100*100)\u001b[0m\u001b[0;34m\u001b[0m\u001b[0;34m\u001b[0m\u001b[0;34m\u001b[0m\u001b[0m\n\u001b[0;32m---> 21\u001b[0;31m   \u001b[0mhog_array_test\u001b[0m \u001b[0;34m=\u001b[0m \u001b[0mhog_array_test\u001b[0m\u001b[0;34m.\u001b[0m\u001b[0mreshape\u001b[0m\u001b[0;34m(\u001b[0m\u001b[0mlen\u001b[0m\u001b[0;34m(\u001b[0m\u001b[0mlabels_list_test\u001b[0m\u001b[0;34m)\u001b[0m\u001b[0;34m,\u001b[0m \u001b[0mhog_array_test\u001b[0m\u001b[0;34m[\u001b[0m\u001b[0;36m1\u001b[0m\u001b[0;34m]\u001b[0m\u001b[0;34m*\u001b[0m\u001b[0mhog_array_test\u001b[0m\u001b[0;34m[\u001b[0m\u001b[0;36m2\u001b[0m\u001b[0;34m]\u001b[0m\u001b[0;34m)\u001b[0m\u001b[0;34m\u001b[0m\u001b[0;34m\u001b[0m\u001b[0m\n\u001b[0m\u001b[1;32m     22\u001b[0m   \u001b[0;32mreturn\u001b[0m \u001b[0mhog_array_test\u001b[0m\u001b[0;34m\u001b[0m\u001b[0;34m\u001b[0m\u001b[0m\n",
            "\u001b[0;31mTypeError\u001b[0m: only integer scalar arrays can be converted to a scalar index"
          ]
        }
      ]
    }
  ]
}