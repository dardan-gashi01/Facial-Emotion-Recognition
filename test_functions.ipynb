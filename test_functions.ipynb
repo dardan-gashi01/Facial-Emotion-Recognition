{
  "cells": [
    {
      "cell_type": "markdown",
      "metadata": {
        "id": "view-in-github",
        "colab_type": "text"
      },
      "source": [
        "<a href=\"https://colab.research.google.com/github/dardan-gashi01/IN3060-CW/blob/main/test_functions.ipynb\" target=\"_parent\"><img src=\"https://colab.research.google.com/assets/colab-badge.svg\" alt=\"Open In Colab\"/></a>"
      ]
    },
    {
      "cell_type": "markdown",
      "metadata": {
        "id": "QcJK3kXl--c3"
      },
      "source": [
        "# Computer Vision Coursework Submission (IN3060/INM460)\n",
        "\n",
        "**Student name, ID and cohort:** Dardan Gashi (190003347) - UG\n"
      ]
    },
    {
      "cell_type": "markdown",
      "metadata": {
        "id": "6rVDkKZEEKIp"
      },
      "source": [
        "# Notebook Setup\n",
        "In this section you should include all the code cells required to test your coursework submission. Specifically:"
      ]
    },
    {
      "cell_type": "markdown",
      "metadata": {
        "id": "I3D_ONirhSvw"
      },
      "source": [
        "### Mount Google Drive"
      ]
    },
    {
      "cell_type": "code",
      "execution_count": 2,
      "metadata": {
        "colab": {
          "base_uri": "https://localhost:8080/"
        },
        "id": "Kl3ZyAAVEKI1",
        "outputId": "d78dafa3-7744-4706-dc01-7c3e7d2c9a2f"
      },
      "outputs": [
        {
          "output_type": "stream",
          "name": "stdout",
          "text": [
            "Mounted at /content/drive\n"
          ]
        }
      ],
      "source": [
        "from google.colab import drive\n",
        "drive.mount('/content/drive')"
      ]
    },
    {
      "cell_type": "markdown",
      "metadata": {
        "id": "RxIKS3ukEKI2"
      },
      "source": [
        "### Define Local Path\n",
        "\n",
        "In the next cell you should assign to the variable `GOOGLE_DRIVE_PATH_AFTER_MYDRIVE` the relative path of this folder in your Google Drive.\n",
        "\n",
        "**IMPORTANT:** you have to make sure that **all the files required to test your functions are loaded using this variable** (as was the case for all lab tutorials). In other words, do not use in the notebook any absolute paths. This will ensure that the markers can run your functions. Also, **do not use** the magic command `%cd` to change directory.\n",
        "\n"
      ]
    },
    {
      "cell_type": "code",
      "execution_count": 3,
      "metadata": {
        "colab": {
          "base_uri": "https://localhost:8080/"
        },
        "id": "28VgE7dMEKI2",
        "outputId": "cf12c553-6223-49d3-c4d8-44f71a5ba207"
      },
      "outputs": [
        {
          "output_type": "stream",
          "name": "stdout",
          "text": [
            "['.DS_Store', 'CW_Dataset.zip', 'Code', 'Models', 'Personal_Dataset', 'test_functions.ipynb']\n"
          ]
        }
      ],
      "source": [
        "import os\n",
        "\n",
        "# TODO: Fill in the Google Drive path where you uploaded the CW_folder_UG\n",
        "# Example: GOOGLE_DRIVE_PATH_AFTER_MYDRIVE = 'Colab Notebooks/Computer Vision/CW_folder_UG'\n",
        "\n",
        "GOOGLE_DRIVE_PATH_AFTER_MYDRIVE = 'Colab Notebooks/CW_Folder_UG'\n",
        "GOOGLE_DRIVE_PATH = os.path.join('drive', 'My Drive', GOOGLE_DRIVE_PATH_AFTER_MYDRIVE)\n",
        "print(os.listdir(GOOGLE_DRIVE_PATH))"
      ]
    },
    {
      "cell_type": "markdown",
      "metadata": {
        "id": "747B4GKgvHsv"
      },
      "source": [
        "### Load packages \n",
        "\n",
        "In the next cell you should load all the packages required to test your functions."
      ]
    },
    {
      "cell_type": "code",
      "execution_count": 4,
      "metadata": {
        "id": "FlNicHnRkrcp"
      },
      "outputs": [],
      "source": [
        "import matplotlib.pyplot as plt\n",
        "import numpy as np\n",
        "from joblib import dump, load\n",
        "import torch\n",
        "from torchvision import datasets, models, transforms\n",
        "import shutil\n",
        "from skimage import img_as_ubyte, io, color\n",
        "import cv2\n",
        "import torch.nn as nn\n",
        "import torch.nn.functional as F"
      ]
    },
    {
      "cell_type": "markdown",
      "metadata": {
        "id": "Qc83ETI1a3o9"
      },
      "source": [
        "# Test EmotionRecognition\n",
        "\n",
        "This section should allow a quick test of the `EmotionRecognition` function. First, add cells with the code needed to load the necessary subroutines to make `EmotionRecognition` work."
      ]
    },
    {
      "cell_type": "markdown",
      "source": [
        "unzip the test path and make it into a new folder to be able to run the functions on it"
      ],
      "metadata": {
        "id": "bhDMl4LRfUJc"
      }
    },
    {
      "cell_type": "code",
      "execution_count": 5,
      "metadata": {
        "id": "r5GwnRcgpLSZ"
      },
      "outputs": [],
      "source": [
        "zip_path = os.path.join(GOOGLE_DRIVE_PATH, 'CW_Dataset.zip')\n",
        "\n",
        "!cp '{zip_path}' .\n",
        "\n",
        "!yes|unzip -q CW_Dataset.zip\n",
        "\n",
        "!rm CW_Dataset.zip"
      ]
    },
    {
      "cell_type": "code",
      "execution_count": 19,
      "metadata": {
        "id": "K5X_nA0vKQ9d"
      },
      "outputs": [],
      "source": [
        "import os, shutil\n",
        "#function to make the directory if the one we are trying to make does not exist already\n",
        "def make_dir_if_not_exists(path):\n",
        "  if not os.path.isdir(path):\n",
        "    os.mkdir(path)\n",
        "\n",
        "\n",
        "def dataFolder2(trainImgPath, testImgPath, trainLabelPath, testLabelPath):\n",
        "  #creating empty folders\n",
        "  make_dir_if_not_exists('./DataFolder')\n",
        "  make_dir_if_not_exists('./DataFolder/train')\n",
        "  make_dir_if_not_exists('./DataFolder/test')\n",
        "  #making the folders 1-7 to store our data inside them and have emotions as numbers\n",
        "  for i in range(1,8):\n",
        "    make_dir_if_not_exists(f'./DataFolder/train/{str(i)}')\n",
        "    make_dir_if_not_exists(f'./DataFolder/test/{str(i)}')\n",
        "\n",
        "  #initialisng the train and test paths\n",
        "  trainPath = './DataFolder/train'\n",
        "  testPath = './DataFolder/test'\n",
        "\n",
        "  #reading the text file and splitting it from the space and storing the numbers in a dictionary and assigning it to the images we also read\n",
        "  file_names = [file for file in os.listdir(trainImgPath) if file.endswith('.jpg')]\n",
        "  parsed_data = {}\n",
        "  with open (trainLabelPath, \"r\") as myfile:\n",
        "    data = myfile.readlines()\n",
        "    for line_data in data:\n",
        "      file_name, number = line_data.strip().split(\" \")\n",
        "      parsed_data[file_name] = number\n",
        "\n",
        "  #loading the images into the correct folders for the train folder\n",
        "  for file in file_names:\n",
        "    shutil.copy(f\"{trainImgPath}/{file}\", f\"{trainPath}/{parsed_data[file.replace('_aligned', '')]}/{file}\")\n",
        "    #print(\"image file: \" + file + ' class: ' + parsed_data[file.replace(\"_aligned\", \"\")])\n",
        "  #load images into the correct folders\n",
        "\n",
        "  #repeat the same step as above but this time for the test folder and test.txt\n",
        "  file_names = [file for file in os.listdir(testImgPath) if file.endswith('.jpg')]\n",
        "  parsed_data = {}\n",
        "  with open (testLabelPath, \"r\") as myfile:\n",
        "    data = myfile.readlines()\n",
        "    for line_data in data:\n",
        "      file_name, number = line_data.strip().split(\" \")\n",
        "      parsed_data[file_name] = number\n",
        "\n",
        "  for file in file_names:\n",
        "    shutil.copy(f\"{testImgPath}/{file}\", f\"{testPath}/{parsed_data[file.replace('_aligned', '')]}/{file}\")\n",
        "    #print(\"image file: \" + file + ' class: ' + parsed_data[file.replace(\"_aligned\", \"\")])\n",
        "  #load images into the correct folders"
      ]
    },
    {
      "cell_type": "code",
      "execution_count": 20,
      "metadata": {
        "id": "8OhMOSWXKWhL"
      },
      "outputs": [],
      "source": [
        "dataFolder2('train', 'test', 'labels/list_label_train.txt', 'labels/list_label_test.txt')"
      ]
    },
    {
      "cell_type": "code",
      "execution_count": 21,
      "metadata": {
        "id": "V_z0Ria4Kf_0"
      },
      "outputs": [],
      "source": [
        "#this is loading the images and labels from our folder into the X and y. This code was taken from the lab 7 tutorial where they loaded the images and labels\n",
        "def import_selected_data(path, label_list):\n",
        "    images = []\n",
        "    labels = []\n",
        "\n",
        "    if label_list is None:\n",
        "        folder_names = [folder for folder in sorted(os.listdir(path)) if not folder.startswith('.')]\n",
        "    else:\n",
        "        folder_names = [folder for folder in sorted(os.listdir(path)) if folder in label_list]\n",
        "\n",
        "    for folder in folder_names:\n",
        "        file_names = [file for file in sorted(os.listdir(os.path.join(path, folder))) if file.endswith('.jpg')]\n",
        "        for file in file_names:\n",
        "            images.append(io.imread(os.path.join(path, folder, file)))\n",
        "            labels.append(folder)\n",
        "\n",
        "    return images, labels"
      ]
    },
    {
      "cell_type": "markdown",
      "metadata": {
        "id": "i0WryakwK2dK"
      },
      "source": [
        "**fixing up the data so that we can run tests on the pytorch model**"
      ]
    },
    {
      "cell_type": "markdown",
      "source": [
        "**Pytorch model class**"
      ],
      "metadata": {
        "id": "WwD-XADmxsfS"
      }
    },
    {
      "cell_type": "code",
      "source": [
        "#neural network class \n",
        "class CNN(nn.Module):\n",
        "  def __init__(self):\n",
        "        super(CNN, self).__init__()\n",
        "        #4 conv layers defined as in the CNN.ipynb file\n",
        "        self.conv1 = nn.Conv2d(3,12,3)\n",
        "        self.pool = nn.MaxPool2d(2,2)\n",
        "        self.conv2 = nn.Conv2d(12, 48, 3)\n",
        "        self.conv3 = nn.Conv2d(48, 192,3)\n",
        "        self.conv4 = nn.Conv2d(192, 768, 3)\n",
        "        self.fc1 = nn.Linear(768*12*12, 140)\n",
        "        self.fc2 = nn.Linear(140,98)\n",
        "        self.fc3 = nn.Linear(98,7)\n",
        "\n",
        "        #the forward pass function in the class so when we train\n",
        "  def forward(self, x):\n",
        "      x = self.pool(F.relu(self.conv1(x)))\n",
        "      x = self.pool(F.relu(self.conv2(x)))\n",
        "      x = self.pool(F.relu(self.conv3(x)))\n",
        "      x = self.pool(F.relu(self.conv4(x)))\n",
        "      x = x.view(-1, 768*12*12)\n",
        "      x = F.relu(self.fc1(x))\n",
        "      x = F.relu(self.fc2(x))\n",
        "      x = self.fc3(x)\n",
        "      return x"
      ],
      "metadata": {
        "id": "xfWQUem4lLv0"
      },
      "execution_count": 9,
      "outputs": []
    },
    {
      "cell_type": "code",
      "source": [
        "cnn = CNN()"
      ],
      "metadata": {
        "id": "WLEMn7eKlSg9"
      },
      "execution_count": 10,
      "outputs": []
    },
    {
      "cell_type": "markdown",
      "source": [
        "**function to load and transform our data**"
      ],
      "metadata": {
        "id": "uJlh9EojxwA9"
      }
    },
    {
      "cell_type": "code",
      "execution_count": 11,
      "metadata": {
        "id": "m8LrZmK3K1uN"
      },
      "outputs": [],
      "source": [
        "device = torch.device(\"cuda:0\" if torch.cuda.is_available() else \"cpu\")\n",
        "data_means = [0.485, 0.456, 0.406]\n",
        "data_stds = [0.229, 0.224, 0.225]\n",
        "\n",
        "#this was taken from the lab9 where we transform our train and test images when we load them\n",
        "def transform_Data(path):\n",
        "  data_transforms = {\n",
        "      'test': transforms.Compose([\n",
        "          transforms.Resize(256),\n",
        "          transforms.CenterCrop(224),\n",
        "          transforms.ToTensor(),\n",
        "          transforms.Normalize(data_means, data_stds)\n",
        "      ]),\n",
        "  }\n",
        "\n",
        "  image_datasets = {x: datasets.ImageFolder(os.path.join(path, x),\n",
        "                                            data_transforms[x])\n",
        "                    for x in ['test']}\n",
        "  dataloaders = {x: torch.utils.data.DataLoader(image_datasets[x], batch_size=4,\n",
        "                                              shuffle=True, num_workers=2)\n",
        "                for x in ['test']}\n",
        "\n",
        "  class_names = image_datasets['test'].classes\n",
        "  \n",
        "  return dataloaders, class_names\n",
        "\n",
        "  "
      ]
    },
    {
      "cell_type": "markdown",
      "source": [
        "**functions to display our images with truth labels and predictions**"
      ],
      "metadata": {
        "id": "Y09fgi48x0q6"
      }
    },
    {
      "cell_type": "code",
      "execution_count": 12,
      "metadata": {
        "id": "8MNpJeTxLKXH"
      },
      "outputs": [],
      "source": [
        "def imshow(inp, title=None):\n",
        "    \"\"\"Imshow for Tensor.\"\"\"\n",
        "    inp = inp.numpy().transpose((1, 2, 0))\n",
        "    inp = np.asarray(data_stds) * inp + np.asarray(data_means)\n",
        "    inp = np.clip(inp, 0, 1)       # Clip to intensity outliers to [0, 1] range\n",
        "    plt.imshow(inp)\n",
        "    if title is not None:\n",
        "        plt.title(title)\n",
        "\n",
        "#this was also taken from lab9 to display the images and their prediction and truth labels\n",
        "def visualize_model(model,DL, CN, num_images=4):\n",
        "    was_training = model.training\n",
        "    model.eval()\n",
        "    images_so_far = 0\n",
        "\n",
        "    with torch.no_grad():\n",
        "        for i, (inputs, labels) in enumerate(DL['test']):\n",
        "            inputs = inputs.to(device)\n",
        "            labels = labels.to(device)\n",
        "\n",
        "            outputs = model(inputs)\n",
        "            _, preds = torch.max(outputs, 1)\n",
        "\n",
        "            for j in range(inputs.size()[0]):\n",
        "                images_so_far += 1\n",
        "                ax = plt.subplot(1, 4, images_so_far)\n",
        "                ax.axis('off')\n",
        "                ax.set_title(f\"Predicted: {CN[preds[j]]} \\n Actual: {CN[labels[j]]}\")\n",
        "                imshow(inputs.cpu().data[j])\n",
        "                #imshow(inputs.cpu().data[j])        # move back the data to the CPU for visualisation\n",
        "\n",
        "                if images_so_far == num_images:\n",
        "                    model.train(mode=was_training)\n",
        "                    return\n",
        "        model.train(mode=was_training)"
      ]
    },
    {
      "cell_type": "markdown",
      "metadata": {
        "id": "lVBisHuvXEd4"
      },
      "source": [
        "**FIXING DATA FOR THEH HOGMLP and HOGSVM MODELS and so we can plot the images in the desired form**"
      ]
    },
    {
      "cell_type": "code",
      "execution_count": 13,
      "metadata": {
        "id": "dsZ7Z8U7XRLY"
      },
      "outputs": [],
      "source": [
        "from skimage.feature import hog\n",
        "#created this function to hog feature extract our images in the test folders so we can run the prediction model\n",
        "#this block of code is inspired from the SIFT feature extractor in lab 7 but its adapted to using hog feature extractors\n",
        "def hogimages2(images, labels):\n",
        "  hog_list_test = []\n",
        "  hog_features_test=[]\n",
        "  labels_list_test = []\n",
        "\n",
        "#iterating all of the images to apply hog feature extractor to them\n",
        "\n",
        "  for i in range(len(images)):\n",
        "    \n",
        "    img = img_as_ubyte(color.rgb2gray(images[i]))\n",
        "    #for this I got this from doing the hog exercise in lab 6 and used https://www.analyticsvidhya.com/blog/2019/09/feature-engineering-images-introduction-hog-feature-descriptor/ to help me understand it and get an example\n",
        "    #storing the features and the hog image when running the function on the grayscale image\n",
        "    fd, hog_image = hog(img, orientations=8, pixels_per_cell=(12, 12), cells_per_block=(1, 1), visualize=True)\n",
        "\n",
        "    hog_list_test.append(hog_image)\n",
        "    labels_list_test.append(labels[i])\n",
        "    hog_features_test.append(fd)\n",
        "\n",
        "\n",
        "  hog_array_test = np.vstack(hog_list_test)\n",
        "  hog_array_test = hog_array_test.reshape(len(labels_list_test), 100*100)\n",
        "  #hog_array_test = hog_array_test.reshape(len(labels_list_test), hog_array_test[1]*hog_array_test[2])\n",
        "  return hog_array_test"
      ]
    },
    {
      "cell_type": "markdown",
      "source": [
        "function to display our data with truth and predicted labels"
      ],
      "metadata": {
        "id": "lck25QU4x7Lc"
      }
    },
    {
      "cell_type": "code",
      "execution_count": 14,
      "metadata": {
        "id": "yEXl3qSKfmP2"
      },
      "outputs": [],
      "source": [
        "#plotting images for hog models\n",
        "def plotImages(images, labels, pred):\n",
        "  fig, ax = plt.subplots(1, 4, figsize=(10, 8), sharex=True, sharey=True)\n",
        "\n",
        "  for i in range(4):\n",
        "    ax[i].imshow(images[i], cmap=plt.cm.gray)\n",
        "    ax[i].set_title(f'actual: {labels[i]} \\n prediction: {pred[i]}')\n",
        "\n",
        "  "
      ]
    },
    {
      "cell_type": "markdown",
      "metadata": {
        "id": "0UXZl6JIlauF"
      },
      "source": [
        "### Load models\n",
        "\n",
        "In the next cell you should load all your trained models for easier testing of your functions. Avoid to load them within `EmotionRecognition` to avoid having to reload them each time."
      ]
    },
    {
      "cell_type": "code",
      "execution_count": 15,
      "metadata": {
        "id": "vHzAo95cleR0"
      },
      "outputs": [],
      "source": [
        "#hog-svm = load(os.path.join(GOOGLE_DRIVE_PATH, 'Models','hog-svm.joblib'))\n",
        "cnn = torch.load((os.path.join(GOOGLE_DRIVE_PATH, 'Models/CNN.pth')), map_location=torch.device('cpu'))\n",
        "hogsvm = load(os.path.join(GOOGLE_DRIVE_PATH, 'Models', 'HOGSVM.joblib'))\n",
        "hogmlp = load(os.path.join(GOOGLE_DRIVE_PATH, 'Models', 'HOGMLP.joblib'))"
      ]
    },
    {
      "cell_type": "markdown",
      "metadata": {
        "id": "9txo74JdLXJu"
      },
      "source": [
        "**EmotionRecognition Function**"
      ]
    },
    {
      "cell_type": "code",
      "execution_count": 16,
      "metadata": {
        "id": "KhBd0EDBLQ5Q"
      },
      "outputs": [],
      "source": [
        "from random import shuffle\n",
        "def EmotionRecognition(path_to_testset, model_type):\n",
        "  \n",
        "  #model_type values are SVM, MLP and CNN\n",
        "  if(model_type == \"hogsvm\"):\n",
        "    print(\"HOGSVM\")\n",
        "    X, y = import_selected_data(path_to_testset+'/test', label_list=['1', '2', '3','4','5','6','7'])\n",
        "    testing = hogimages2(X, y)\n",
        "    y_pred = hogsvm.predict(testing)\n",
        "    plotImages(X,y,y_pred)\n",
        "  elif(model_type == \"hogmlp\"):\n",
        "    print(\"HOGMLP\")\n",
        "    X, y = import_selected_data(path_to_testset+'/test', label_list=['1', '2', '3','4','5','6','7'])\n",
        "    testing = hogimages2(X, y)\n",
        "    y_pred = hogmlp.predict(testing)\n",
        "    plotImages(X,y,y_pred)\n",
        "  elif(model_type == \"cnn\"):\n",
        "    print(\"CNN\")\n",
        "    DataLoader, classNames = transform_Data(path_to_testset)\n",
        "    cnn.eval()\n",
        "    visualize_model(cnn, DataLoader, classNames)\n",
        "  else:\n",
        "    print(\"type a valid model\")"
      ]
    },
    {
      "cell_type": "markdown",
      "metadata": {
        "id": "mHVBUe82pLz6"
      },
      "source": [
        "Then, make a call to the `EmotionRecognition` function to see what results it produces. You must also indicate the syntax needed to test your different models."
      ]
    },
    {
      "cell_type": "code",
      "execution_count": 17,
      "metadata": {
        "colab": {
          "base_uri": "https://localhost:8080/",
          "height": 152
        },
        "id": "TDdtINQCn0Al",
        "outputId": "781e66d2-f2ae-4e05-9d05-3a00a718f41e"
      },
      "outputs": [
        {
          "output_type": "stream",
          "name": "stdout",
          "text": [
            "CNN\n"
          ]
        },
        {
          "output_type": "display_data",
          "data": {
            "text/plain": [
              "<Figure size 432x288 with 4 Axes>"
            ],
            "image/png": "[encoded data removed]"
          },
          "metadata": {
            "needs_background": "light"
          }
        }
      ],
      "source": [
        "# Syntax for the next function is the following:\n",
        "# \n",
        "# EmotionRecognition(path_to_testset, model_type)\n",
        "# \n",
        "# where model_type can be one of\n",
        "#   - hogsvm\n",
        "#   - hogmlp\n",
        "#   - cnn\n",
        "\n",
        "path_to_testset = ('DataFolder')\n",
        "EmotionRecognition(path_to_testset, 'cnn')"
      ]
    },
    {
      "cell_type": "markdown",
      "metadata": {
        "id": "QAuCRTarp5DS"
      },
      "source": [
        "# Test EmotionRecognition in the wild\n",
        "\n",
        "This section should allow a quick test of the `EmotionRecognition` on your `Personal_Dataset`."
      ]
    },
    {
      "cell_type": "code",
      "execution_count": 18,
      "metadata": {
        "colab": {
          "base_uri": "https://localhost:8080/",
          "height": 152
        },
        "id": "ywL6UJZoyqnf",
        "outputId": "ef598c92-2a48-4888-c9f3-538be06bfcc6"
      },
      "outputs": [
        {
          "output_type": "stream",
          "name": "stdout",
          "text": [
            "CNN\n"
          ]
        },
        {
          "output_type": "display_data",
          "data": {
            "text/plain": [
              "<Figure size 432x288 with 4 Axes>"
            ],
            "image/png": "[encoded data removed]"
          },
          "metadata": {
            "needs_background": "light"
          }
        }
      ],
      "source": [
        "# Syntax for the next function is the following:\n",
        "# \n",
        "# EmotionRecognition(path_to_testset, model_type)\n",
        "# \n",
        "# where model_type can be one of\n",
        "#   - hogsvm\n",
        "#   - hogmlp\n",
        "#   - cnn\n",
        "\n",
        "\n",
        "path_to_testset = os.path.join(GOOGLE_DRIVE_PATH, 'Personal_Dataset')\n",
        "EmotionRecognition(path_to_testset, 'cnn')"
      ]
    }
  ],
  "metadata": {
    "colab": {
      "collapsed_sections": [],
      "name": "test_functions.ipynb",
      "provenance": [],
      "include_colab_link": true
    },
    "kernelspec": {
      "display_name": "Python 3",
      "language": "python",
      "name": "python3"
    },
    "language_info": {
      "codemirror_mode": {
        "name": "ipython",
        "version": 3
      },
      "file_extension": ".py",
      "mimetype": "text/x-python",
      "name": "python",
      "nbconvert_exporter": "python",
      "pygments_lexer": "ipython3",
      "version": "3.7.5"
    }
  },
  "nbformat": 4,
  "nbformat_minor": 0
}